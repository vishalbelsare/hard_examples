{
 "cells": [
  {
   "cell_type": "code",
   "execution_count": 10,
   "metadata": {},
   "outputs": [
    {
     "name": "stdout",
     "output_type": "stream",
     "text": [
      "IRIS is loaded.\n",
      "There are 3675 positive pairs.\n",
      "There are 7500 negative pairs\n"
     ]
    }
   ],
   "source": [
    "from Evaluator import Evaluator\n",
    "from sklearn.datasets import load_iris\n",
    "import matplotlib.pyplot as plt\n",
    "import itertools\n",
    "import numpy as np\n",
    "import numpy.linalg as LA\n",
    "\n",
    "def euclidean_distance(a, b):\n",
    "    return LA.norm(a - b)    \n",
    "\n",
    "X, y = load_iris(return_X_y=True)\n",
    "print 'IRIS is loaded.'\n",
    "\n",
    "neg_dis = []\n",
    "pos_dis = []\n",
    "# Iterating over all (distinct) pairs of points.\n",
    "for v, u in itertools.combinations(range(y.shape[0]), 2):\n",
    "    if y[v] == y[u]:\n",
    "        pos_dis.append(euclidean_distance(X[v,:], X[u,:]))\n",
    "    else:\n",
    "        neg_dis.append(euclidean_distance(X[v,:], X[u,:]))\n",
    "\n",
    "print 'There are %d positive pairs.\\nThere are %d negative pairs' % \\\n",
    "    (len(pos_dis), len(neg_dis))"
   ]
  },
  {
   "cell_type": "code",
   "execution_count": 13,
   "metadata": {},
   "outputs": [
    {
     "data": {
      "image/png": "[encoded data removed]",
      "text/plain": [
       "<matplotlib.figure.Figure at 0x7f9ab812ef10>"
      ]
     },
     "metadata": {},
     "output_type": "display_data"
    }
   ],
   "source": [
    "plt.hist(pos_dis, 50, alpha=0.5, label='positive', color='C0')\n",
    "plt.hist(neg_dis, 50, alpha=0.5, label='negative', color='C3')\n",
    "plt.legend(loc='upper right')\n",
    "plt.show()"
   ]
  },
  {
   "cell_type": "code",
   "execution_count": 14,
   "metadata": {},
   "outputs": [
    {
     "name": "stdout",
     "output_type": "stream",
     "text": [
      "Positive: mean= 0.957, variance: 0.299\n",
      "Negative: mean= 3.321, variance: 1.991\n"
     ]
    }
   ],
   "source": [
    "print 'Positive: mean= %.3f, variance: %.3f' % (np.mean(pos_dis), np.var(pos_dis))\n",
    "print 'Negative: mean= %.3f, variance: %.3f' % (np.mean(neg_dis), np.var(neg_dis))"
   ]
  }
 ],
 "metadata": {
  "kernelspec": {
   "display_name": "Python 2",
   "language": "python",
   "name": "python2"
  },
  "language_info": {
   "codemirror_mode": {
    "name": "ipython",
    "version": 2
   },
   "file_extension": ".py",
   "mimetype": "text/x-python",
   "name": "python",
   "nbconvert_exporter": "python",
   "pygments_lexer": "ipython2",
   "version": "2.7.12"
  }
 },
 "nbformat": 4,
 "nbformat_minor": 2
}
