{
 "cells": [
  {
   "cell_type": "code",
   "execution_count": 47,
   "metadata": {},
   "outputs": [
    {
     "name": "stdout",
     "output_type": "stream",
     "text": [
      "IRIS is loaded.\n"
     ]
    }
   ],
   "source": [
    "from Evaluator import Evaluator\n",
    "from sklearn.datasets import load_iris\n",
    "from sklearn.decomposition import PCA\n",
    "import matplotlib.pyplot as plt\n",
    "import itertools\n",
    "import numpy as np\n",
    "import numpy.linalg as LA\n",
    "\n",
    "def euclidean_distance(a, b):\n",
    "    return LA.norm(a - b)    \n",
    "\n",
    "X, y = load_iris(return_X_y=True)\n",
    "X = PCA(n_components = 2).fit_transform(X)\n",
    "print 'IRIS is loaded.'\n",
    "    \n",
    "# Loading the Graph\n",
    "from numpy import linalg as LA\n",
    "from sklearn.neighbors import kneighbors_graph\n",
    "import networkx as nx\n",
    "k_neighbors = 5 #@param {type: \"integer\"}\n",
    "\n",
    "# Getting adjacency matrix\n",
    "A = kneighbors_graph(X, k_neighbors)\n",
    "\n",
    "# Putting EuclideanDistance as graph weight\n",
    "rows, cols = A.nonzero()\n",
    "for i in range(len(rows)):\n",
    "    A[rows[i],cols[i]] = float(LA.norm(X[rows[i],:] - X[cols[i],:]))\n",
    "\n",
    "# Putting datapoint labels as \"class\" attribute on nodes\n",
    "G = nx.from_scipy_sparse_matrix(A, create_using=nx.DiGraph())\n",
    "for v in G.node:\n",
    "    for u in G[v]:\n",
    "        G[v][u]['weight'] = float(G[v][u]['weight'])\n",
    "\n",
    "node_label = {}\n",
    "for v in G.node.keys():\n",
    "    node_label[v] = str(y[v])\n",
    "# nx.set_node_attributes(G, 'class', node_label)\n",
    "\n",
    "# Putting 2D position of each node on it for Graph layout\n",
    "pos = {}\n",
    "for i in range(X.shape[0]):\n",
    "    G.node[i]['x'] = float(X[i,0])\n",
    "    G.node[i]['y'] = float(X[i,1])\n",
    "    pos[i] = (float(X[i,0]), float(X[i,1]))"
   ]
  },
  {
   "cell_type": "code",
   "execution_count": 44,
   "metadata": {},
   "outputs": [
    {
     "data": {
      "image/png": "[encoded data removed]",
      "text/plain": [
       "<matplotlib.figure.Figure at 0x7f9aa02116d0>"
      ]
     },
     "metadata": {},
     "output_type": "display_data"
    }
   ],
   "source": [
    "plt.hist(pos_dis, 50, alpha=0.5, label='positive', color='C0')\n",
    "plt.hist(neg_dis, 50, alpha=0.5, label='negative', color='C3')\n",
    "plt.legend(loc='upper right')\n",
    "plt.show()"
   ]
  },
  {
   "cell_type": "code",
   "execution_count": 49,
   "metadata": {},
   "outputs": [
    {
     "name": "stdout",
     "output_type": "stream",
     "text": [
      "(3675, 2)\n",
      "(7500, 2)\n"
     ]
    }
   ],
   "source": [
    "neg_diff = []\n",
    "pos_diff = []\n",
    "# Iterating over all (distinct) pairs of points.\n",
    "for v, u in itertools.combinations(range(y.shape[0]), 2):\n",
    "    diff = np.abs(X[v, :] - X[u, :])\n",
    "    if y[v] == y[u]:\n",
    "        pos_diff.append(diff)\n",
    "    else:\n",
    "        neg_diff.append(diff)\n",
    "\n",
    "pos_diff = np.array(pos_diff)\n",
    "neg_diff = np.array(neg_diff)\n",
    "\n",
    "print pos_diff.shape\n",
    "print neg_diff.shape"
   ]
  },
  {
   "cell_type": "code",
   "execution_count": 82,
   "metadata": {},
   "outputs": [
    {
     "name": "stdout",
     "output_type": "stream",
     "text": [
      "Positive Prior: 0.329\n",
      "Negative prior: 0.671\n",
      "[-2.77013891  0.27105942]\n",
      "[-2.68420713  0.32660731]\n",
      "0.124179665294\n",
      "0.00927449946135\n"
     ]
    }
   ],
   "source": [
    "from scipy.stats import multivariate_normal\n",
    "\n",
    "pos_norm = multivariate_normal(\n",
    "    np.mean(pos_diff, axis=0),\n",
    "    np.cov(pos_diff, rowvar=0))\n",
    "neg_norm = multivariate_normal(\n",
    "    np.mean(neg_diff, axis=0),\n",
    "    np.cov(neg_diff, rowvar=0))\n",
    "\n",
    "pos_prior = float(len(pos_diff)) / (len(pos_diff) + len(neg_diff))\n",
    "neg_prior = 1 - pos_prior\n",
    "\n",
    "print('Positive Prior: %.3f\\nNegative prior: %.3f' % (pos_prior, neg_prior))\n",
    "\n",
    "\n",
    "def prob(gaussian, prior, value):\n",
    "    return prior * gaussian.pdf(value)\n",
    "\n",
    "\n",
    "pos_prob = []\n",
    "for v, u in G.edges():\n",
    "    diff = np.abs(X[v,:] - X[u,:])\n",
    "    neg_p = prob(neg_norm, neg_prior, diff)\n",
    "    pos_p = prob(pos_norm, pos_prior, diff)\n",
    "    pos_prob.append(pos_p / (pos_p + neg_p))\n",
    "\n",
    "\n",
    "plt.figure(figsize=(12, 12))\n",
    "\n",
    "nx.draw_networkx_nodes(G, pos,\n",
    "                       node_size=1, node_color=y)\n",
    "nx.draw_networkx_edges(G, pos,\n",
    "                       edge_color=pos_prob, width=1.5,\n",
    "                       edge_cmap=plt.cm.seismic, arrows=False)\n",
    "u, v = list(G.edges())[0]\n",
    "\n",
    "print X[v, :]\n",
    "print X[u, :]\n",
    "diff = np.abs(X[v, :] - X[u, :])\n",
    "print prob(pos_norm, pos_prior, diff)\n",
    "print prob(neg_norm, neg_prior, diff)\n"
   ]
  }
 ],
 "metadata": {
  "kernelspec": {
   "display_name": "Python 2",
   "language": "python",
   "name": "python2"
  },
  "language_info": {
   "codemirror_mode": {
    "name": "ipython",
    "version": 2
   },
   "file_extension": ".py",
   "mimetype": "text/x-python",
   "name": "python",
   "nbconvert_exporter": "python",
   "pygments_lexer": "ipython2",
   "version": "2.7.12"
  }
 },
 "nbformat": 4,
 "nbformat_minor": 2
}
